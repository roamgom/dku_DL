{
 "cells": [
  {
   "cell_type": "markdown",
   "metadata": {},
   "source": [
    "## Regression"
   ]
  },
  {
   "cell_type": "code",
   "execution_count": 2,
   "metadata": {},
   "outputs": [],
   "source": [
    "import numpy as np\n",
    "import pandas as pd\n",
    "\n",
    "from sklearn.linear_model import LinearRegression\n",
    "from sklearn.metrics import mean_squared_error, r2_score\n",
    "from sklearn.model_selection import train_test_split"
   ]
  },
  {
   "cell_type": "code",
   "execution_count": 3,
   "metadata": {
    "scrolled": false
   },
   "outputs": [
    {
     "name": "stdout",
     "output_type": "stream",
     "text": [
      "\u001b[31mBostonHousing.csv\u001b[m\u001b[m             \u001b[31miris.csv\u001b[m\u001b[m\r\n",
      "\u001b[31mBostonHousing_description.txt\u001b[m\u001b[m \u001b[31mliver.csv\u001b[m\u001b[m\r\n",
      "\u001b[31mPimaIndiansDiabetes.csv\u001b[m\u001b[m       \u001b[31mprestige.csv\u001b[m\u001b[m\r\n",
      "\u001b[31mcars.csv\u001b[m\u001b[m                      \u001b[31mucla_admit.csv\u001b[m\u001b[m\r\n",
      "\u001b[31mcredit.csv\u001b[m\u001b[m\r\n"
     ]
    }
   ],
   "source": [
    "!ls ./dataset_0914/"
   ]
  },
  {
   "cell_type": "code",
   "execution_count": 4,
   "metadata": {},
   "outputs": [],
   "source": [
    "path = './dataset_0914'"
   ]
  },
  {
   "cell_type": "code",
   "execution_count": 5,
   "metadata": {
    "scrolled": true
   },
   "outputs": [
    {
     "data": {
      "text/html": [
       "<div>\n",
       "<style scoped>\n",
       "    .dataframe tbody tr th:only-of-type {\n",
       "        vertical-align: middle;\n",
       "    }\n",
       "\n",
       "    .dataframe tbody tr th {\n",
       "        vertical-align: top;\n",
       "    }\n",
       "\n",
       "    .dataframe thead th {\n",
       "        text-align: right;\n",
       "    }\n",
       "</style>\n",
       "<table border=\"1\" class=\"dataframe\">\n",
       "  <thead>\n",
       "    <tr style=\"text-align: right;\">\n",
       "      <th></th>\n",
       "      <th>crim</th>\n",
       "      <th>zn</th>\n",
       "      <th>indus</th>\n",
       "      <th>chas</th>\n",
       "      <th>nox</th>\n",
       "      <th>rm</th>\n",
       "      <th>age</th>\n",
       "      <th>dis</th>\n",
       "      <th>rad</th>\n",
       "      <th>tax</th>\n",
       "      <th>ptratio</th>\n",
       "      <th>b</th>\n",
       "      <th>lstat</th>\n",
       "      <th>medv</th>\n",
       "    </tr>\n",
       "  </thead>\n",
       "  <tbody>\n",
       "    <tr>\n",
       "      <th>0</th>\n",
       "      <td>0.00632</td>\n",
       "      <td>18.0</td>\n",
       "      <td>2.31</td>\n",
       "      <td>0</td>\n",
       "      <td>0.538</td>\n",
       "      <td>6.575</td>\n",
       "      <td>65.2</td>\n",
       "      <td>4.0900</td>\n",
       "      <td>1</td>\n",
       "      <td>296</td>\n",
       "      <td>15.3</td>\n",
       "      <td>396.90</td>\n",
       "      <td>4.98</td>\n",
       "      <td>24.0</td>\n",
       "    </tr>\n",
       "    <tr>\n",
       "      <th>1</th>\n",
       "      <td>0.02731</td>\n",
       "      <td>0.0</td>\n",
       "      <td>7.07</td>\n",
       "      <td>0</td>\n",
       "      <td>0.469</td>\n",
       "      <td>6.421</td>\n",
       "      <td>78.9</td>\n",
       "      <td>4.9671</td>\n",
       "      <td>2</td>\n",
       "      <td>242</td>\n",
       "      <td>17.8</td>\n",
       "      <td>396.90</td>\n",
       "      <td>9.14</td>\n",
       "      <td>21.6</td>\n",
       "    </tr>\n",
       "    <tr>\n",
       "      <th>2</th>\n",
       "      <td>0.02729</td>\n",
       "      <td>0.0</td>\n",
       "      <td>7.07</td>\n",
       "      <td>0</td>\n",
       "      <td>0.469</td>\n",
       "      <td>7.185</td>\n",
       "      <td>61.1</td>\n",
       "      <td>4.9671</td>\n",
       "      <td>2</td>\n",
       "      <td>242</td>\n",
       "      <td>17.8</td>\n",
       "      <td>392.83</td>\n",
       "      <td>4.03</td>\n",
       "      <td>34.7</td>\n",
       "    </tr>\n",
       "    <tr>\n",
       "      <th>3</th>\n",
       "      <td>0.03237</td>\n",
       "      <td>0.0</td>\n",
       "      <td>2.18</td>\n",
       "      <td>0</td>\n",
       "      <td>0.458</td>\n",
       "      <td>6.998</td>\n",
       "      <td>45.8</td>\n",
       "      <td>6.0622</td>\n",
       "      <td>3</td>\n",
       "      <td>222</td>\n",
       "      <td>18.7</td>\n",
       "      <td>394.63</td>\n",
       "      <td>2.94</td>\n",
       "      <td>33.4</td>\n",
       "    </tr>\n",
       "    <tr>\n",
       "      <th>4</th>\n",
       "      <td>0.06905</td>\n",
       "      <td>0.0</td>\n",
       "      <td>2.18</td>\n",
       "      <td>0</td>\n",
       "      <td>0.458</td>\n",
       "      <td>7.147</td>\n",
       "      <td>54.2</td>\n",
       "      <td>6.0622</td>\n",
       "      <td>3</td>\n",
       "      <td>222</td>\n",
       "      <td>18.7</td>\n",
       "      <td>396.90</td>\n",
       "      <td>5.33</td>\n",
       "      <td>36.2</td>\n",
       "    </tr>\n",
       "    <tr>\n",
       "      <th>...</th>\n",
       "      <td>...</td>\n",
       "      <td>...</td>\n",
       "      <td>...</td>\n",
       "      <td>...</td>\n",
       "      <td>...</td>\n",
       "      <td>...</td>\n",
       "      <td>...</td>\n",
       "      <td>...</td>\n",
       "      <td>...</td>\n",
       "      <td>...</td>\n",
       "      <td>...</td>\n",
       "      <td>...</td>\n",
       "      <td>...</td>\n",
       "      <td>...</td>\n",
       "    </tr>\n",
       "    <tr>\n",
       "      <th>501</th>\n",
       "      <td>0.06263</td>\n",
       "      <td>0.0</td>\n",
       "      <td>11.93</td>\n",
       "      <td>0</td>\n",
       "      <td>0.573</td>\n",
       "      <td>6.593</td>\n",
       "      <td>69.1</td>\n",
       "      <td>2.4786</td>\n",
       "      <td>1</td>\n",
       "      <td>273</td>\n",
       "      <td>21.0</td>\n",
       "      <td>391.99</td>\n",
       "      <td>9.67</td>\n",
       "      <td>22.4</td>\n",
       "    </tr>\n",
       "    <tr>\n",
       "      <th>502</th>\n",
       "      <td>0.04527</td>\n",
       "      <td>0.0</td>\n",
       "      <td>11.93</td>\n",
       "      <td>0</td>\n",
       "      <td>0.573</td>\n",
       "      <td>6.120</td>\n",
       "      <td>76.7</td>\n",
       "      <td>2.2875</td>\n",
       "      <td>1</td>\n",
       "      <td>273</td>\n",
       "      <td>21.0</td>\n",
       "      <td>396.90</td>\n",
       "      <td>9.08</td>\n",
       "      <td>20.6</td>\n",
       "    </tr>\n",
       "    <tr>\n",
       "      <th>503</th>\n",
       "      <td>0.06076</td>\n",
       "      <td>0.0</td>\n",
       "      <td>11.93</td>\n",
       "      <td>0</td>\n",
       "      <td>0.573</td>\n",
       "      <td>6.976</td>\n",
       "      <td>91.0</td>\n",
       "      <td>2.1675</td>\n",
       "      <td>1</td>\n",
       "      <td>273</td>\n",
       "      <td>21.0</td>\n",
       "      <td>396.90</td>\n",
       "      <td>5.64</td>\n",
       "      <td>23.9</td>\n",
       "    </tr>\n",
       "    <tr>\n",
       "      <th>504</th>\n",
       "      <td>0.10959</td>\n",
       "      <td>0.0</td>\n",
       "      <td>11.93</td>\n",
       "      <td>0</td>\n",
       "      <td>0.573</td>\n",
       "      <td>6.794</td>\n",
       "      <td>89.3</td>\n",
       "      <td>2.3889</td>\n",
       "      <td>1</td>\n",
       "      <td>273</td>\n",
       "      <td>21.0</td>\n",
       "      <td>393.45</td>\n",
       "      <td>6.48</td>\n",
       "      <td>22.0</td>\n",
       "    </tr>\n",
       "    <tr>\n",
       "      <th>505</th>\n",
       "      <td>0.04741</td>\n",
       "      <td>0.0</td>\n",
       "      <td>11.93</td>\n",
       "      <td>0</td>\n",
       "      <td>0.573</td>\n",
       "      <td>6.030</td>\n",
       "      <td>80.8</td>\n",
       "      <td>2.5050</td>\n",
       "      <td>1</td>\n",
       "      <td>273</td>\n",
       "      <td>21.0</td>\n",
       "      <td>396.90</td>\n",
       "      <td>7.88</td>\n",
       "      <td>11.9</td>\n",
       "    </tr>\n",
       "  </tbody>\n",
       "</table>\n",
       "<p>506 rows × 14 columns</p>\n",
       "</div>"
      ],
      "text/plain": [
       "        crim    zn  indus  chas    nox     rm   age     dis  rad  tax  \\\n",
       "0    0.00632  18.0   2.31     0  0.538  6.575  65.2  4.0900    1  296   \n",
       "1    0.02731   0.0   7.07     0  0.469  6.421  78.9  4.9671    2  242   \n",
       "2    0.02729   0.0   7.07     0  0.469  7.185  61.1  4.9671    2  242   \n",
       "3    0.03237   0.0   2.18     0  0.458  6.998  45.8  6.0622    3  222   \n",
       "4    0.06905   0.0   2.18     0  0.458  7.147  54.2  6.0622    3  222   \n",
       "..       ...   ...    ...   ...    ...    ...   ...     ...  ...  ...   \n",
       "501  0.06263   0.0  11.93     0  0.573  6.593  69.1  2.4786    1  273   \n",
       "502  0.04527   0.0  11.93     0  0.573  6.120  76.7  2.2875    1  273   \n",
       "503  0.06076   0.0  11.93     0  0.573  6.976  91.0  2.1675    1  273   \n",
       "504  0.10959   0.0  11.93     0  0.573  6.794  89.3  2.3889    1  273   \n",
       "505  0.04741   0.0  11.93     0  0.573  6.030  80.8  2.5050    1  273   \n",
       "\n",
       "     ptratio       b  lstat  medv  \n",
       "0       15.3  396.90   4.98  24.0  \n",
       "1       17.8  396.90   9.14  21.6  \n",
       "2       17.8  392.83   4.03  34.7  \n",
       "3       18.7  394.63   2.94  33.4  \n",
       "4       18.7  396.90   5.33  36.2  \n",
       "..       ...     ...    ...   ...  \n",
       "501     21.0  391.99   9.67  22.4  \n",
       "502     21.0  396.90   9.08  20.6  \n",
       "503     21.0  396.90   5.64  23.9  \n",
       "504     21.0  393.45   6.48  22.0  \n",
       "505     21.0  396.90   7.88  11.9  \n",
       "\n",
       "[506 rows x 14 columns]"
      ]
     },
     "execution_count": 5,
     "metadata": {},
     "output_type": "execute_result"
    }
   ],
   "source": [
    "boston_hs = pd.read_csv(f\"{path}/BostonHousing.csv\")\n",
    "boston_hs"
   ]
  },
  {
   "cell_type": "code",
   "execution_count": 6,
   "metadata": {},
   "outputs": [
    {
     "data": {
      "text/plain": [
       "array([[32.65374217],\n",
       "       [31.70369282],\n",
       "       [30.75364346],\n",
       "       [29.80359411]])"
      ]
     },
     "execution_count": 6,
     "metadata": {},
     "output_type": "execute_result"
    }
   ],
   "source": [
    "lstat = np.array(boston_hs['lstat']).reshape(506, 1)\n",
    "medv = np.array(boston_hs['medv']).reshape(506, 1)\n",
    "\n",
    "model = LinearRegression()\n",
    "\n",
    "model.fit(lstat, medv)\n",
    "\n",
    "test_predict = model.predict([[2.0], [3.0], [4.0], [5.0]])\n",
    "test_predict"
   ]
  },
  {
   "cell_type": "code",
   "execution_count": 7,
   "metadata": {},
   "outputs": [
    {
     "name": "stdout",
     "output_type": "stream",
     "text": [
      "medv = -0.9500493537579906 * lstat + 34.5538408793831\n"
     ]
    }
   ],
   "source": [
    "print(f\"medv = {float(model.coef_)} * lstat + {float(model.intercept_)}\")"
   ]
  },
  {
   "cell_type": "code",
   "execution_count": 8,
   "metadata": {},
   "outputs": [
    {
     "name": "stdout",
     "output_type": "stream",
     "text": [
      "38.48296722989415\n"
     ]
    }
   ],
   "source": [
    "pred_y = model.predict(lstat)\n",
    "print(mean_squared_error(medv, pred_y))"
   ]
  },
  {
   "cell_type": "code",
   "execution_count": null,
   "metadata": {},
   "outputs": [],
   "source": []
  },
  {
   "cell_type": "code",
   "execution_count": 9,
   "metadata": {},
   "outputs": [],
   "source": [
    "train_X, test_X, train_y, test_y = train_test_split(lstat, medv, test_size=0.2, random_state=20)"
   ]
  },
  {
   "cell_type": "code",
   "execution_count": 10,
   "metadata": {
    "scrolled": true
   },
   "outputs": [
    {
     "data": {
      "text/plain": [
       "array([[22.44474592],\n",
       "       [24.69597798],\n",
       "       [21.30463698],\n",
       "       [14.19344902],\n",
       "       [12.42531397],\n",
       "       [26.94721004],\n",
       "       [12.61855277],\n",
       "       [ 5.37209765],\n",
       "       [22.32880264],\n",
       "       [24.41578171],\n",
       "       [25.79743916],\n",
       "       [17.92295792],\n",
       "       [28.98587941],\n",
       "       [23.3529683 ],\n",
       "       [25.45927125],\n",
       "       [29.35303314],\n",
       "       [27.34334958],\n",
       "       [17.5074945 ],\n",
       "       [17.20797435],\n",
       "       [20.75390639],\n",
       "       [31.90378534],\n",
       "       [32.14533384],\n",
       "       [26.41580333],\n",
       "       [26.60904213],\n",
       "       [21.87469145],\n",
       "       [29.15013239],\n",
       "       [25.014822  ],\n",
       "       [28.29021972],\n",
       "       [22.62832278],\n",
       "       [28.58007792],\n",
       "       [15.81665497],\n",
       "       [21.27565116],\n",
       "       [21.140384  ],\n",
       "       [ 6.86003644],\n",
       "       [29.7781585 ],\n",
       "       [24.65733022],\n",
       "       [29.98105925],\n",
       "       [29.4399906 ],\n",
       "       [24.7249638 ],\n",
       "       [31.03421073],\n",
       "       [12.37700427],\n",
       "       [16.80217287],\n",
       "       [18.29977359],\n",
       "       [19.33360119],\n",
       "       [25.74912946],\n",
       "       [25.56555259],\n",
       "       [25.9520302 ],\n",
       "       [28.57041598],\n",
       "       [10.11611027],\n",
       "       [10.00982893],\n",
       "       [31.14049207],\n",
       "       [28.53176822],\n",
       "       [11.94221696],\n",
       "       [31.92310922],\n",
       "       [15.16930498],\n",
       "       [24.98583618],\n",
       "       [19.62345939],\n",
       "       [20.78289221],\n",
       "       [17.92295792],\n",
       "       [20.73458251],\n",
       "       [27.44963092],\n",
       "       [23.08243397],\n",
       "       [22.57035114],\n",
       "       [25.57521453],\n",
       "       [19.27562955],\n",
       "       [16.7635251 ],\n",
       "       [27.00518168],\n",
       "       [21.94232503],\n",
       "       [21.21767952],\n",
       "       [16.7152154 ],\n",
       "       [30.27091745],\n",
       "       [24.75394962],\n",
       "       [28.37717718],\n",
       "       [27.48827869],\n",
       "       [19.70075491],\n",
       "       [25.63318617],\n",
       "       [25.58487647],\n",
       "       [23.93268471],\n",
       "       [27.04382944],\n",
       "       [25.08245558],\n",
       "       [ 7.56535807],\n",
       "       [15.27558632],\n",
       "       [26.57039437],\n",
       "       [ 6.39626331],\n",
       "       [29.47863836],\n",
       "       [22.2225213 ],\n",
       "       [22.94716681],\n",
       "       [21.30463698],\n",
       "       [29.59458164],\n",
       "       [23.99065635],\n",
       "       [23.36263024],\n",
       "       [23.66215038],\n",
       "       [24.02930411],\n",
       "       [12.82145352],\n",
       "       [27.31436376],\n",
       "       [27.95205181],\n",
       "       [23.58485486],\n",
       "       [18.40605493],\n",
       "       [16.27076616],\n",
       "       [22.68629442],\n",
       "       [16.89879227],\n",
       "       [25.96169214]])"
      ]
     },
     "execution_count": 10,
     "metadata": {},
     "output_type": "execute_result"
    }
   ],
   "source": [
    "model = LinearRegression()\n",
    "\n",
    "model.fit(train_X, train_y)\n",
    "\n",
    "pred_y = model.predict(test_X)\n",
    "pred_y"
   ]
  },
  {
   "cell_type": "code",
   "execution_count": 11,
   "metadata": {},
   "outputs": [
    {
     "name": "stdout",
     "output_type": "stream",
     "text": [
      "Weight: [-0.81405588 -1.23038839 -0.01512154  0.33174887]\n",
      "Bias: 58.545748661239884\n"
     ]
    }
   ],
   "source": [
    "X = boston_hs[['lstat', 'ptratio', 'tax', 'rad']]\n",
    "y = boston_hs['medv']\n",
    "\n",
    "model = LinearRegression()\n",
    "\n",
    "model.fit(X, y)\n",
    "\n",
    "\n",
    "print(f\"Weight: {model.coef_}\")\n",
    "print(f\"Bias: {model.intercept_}\")"
   ]
  },
  {
   "cell_type": "code",
   "execution_count": 12,
   "metadata": {},
   "outputs": [
    {
     "data": {
      "text/plain": [
       "array([35.5479738 , 34.95427204, 34.04856204])"
      ]
     },
     "execution_count": 12,
     "metadata": {},
     "output_type": "execute_result"
    }
   ],
   "source": [
    "test_X = [[2.0, 14, 296, 1], [3.0, 15, 222, 2], [4.0, 15, 250, 3]]\n",
    "\n",
    "test_y = model.predict(test_X)\n",
    "test_y"
   ]
  },
  {
   "cell_type": "code",
   "execution_count": 13,
   "metadata": {},
   "outputs": [
    {
     "name": "stdout",
     "output_type": "stream",
     "text": [
      "31.801263706719894\n"
     ]
    }
   ],
   "source": [
    "test_y = model.predict(X)\n",
    "print(mean_squared_error(y, test_y))"
   ]
  },
  {
   "cell_type": "markdown",
   "metadata": {},
   "source": [
    "---"
   ]
  },
  {
   "cell_type": "markdown",
   "metadata": {},
   "source": [
    "## UCLA_admit"
   ]
  },
  {
   "cell_type": "code",
   "execution_count": 14,
   "metadata": {},
   "outputs": [],
   "source": [
    "import numpy as np\n",
    "import pandas as pd\n",
    "\n",
    "from sklearn.linear_model import LogisticRegression\n",
    "from sklearn.metrics import accuracy_score\n",
    "from sklearn.model_selection import train_test_split"
   ]
  },
  {
   "cell_type": "code",
   "execution_count": 15,
   "metadata": {},
   "outputs": [
    {
     "data": {
      "text/plain": [
       "LogisticRegression()"
      ]
     },
     "execution_count": 15,
     "metadata": {},
     "output_type": "execute_result"
    }
   ],
   "source": [
    "ucla_data = pd.read_csv(f\"{path}/ucla_admit.csv\")\n",
    "\n",
    "ucla_X = ucla_data[['gre', 'gpa', 'rank']]\n",
    "ucla_y = ucla_data['admit']\n",
    "\n",
    "trn_X, test_X, trn_y, test_y = train_test_split(ucla_X, ucla_y, test_size=0.3, random_state=1234)\n",
    "\n",
    "model = LogisticRegression()\n",
    "model.fit(trn_X, trn_y)"
   ]
  },
  {
   "cell_type": "code",
   "execution_count": 16,
   "metadata": {},
   "outputs": [
    {
     "name": "stdout",
     "output_type": "stream",
     "text": [
      "0.6714285714285714\n",
      "0.7416666666666667\n"
     ]
    }
   ],
   "source": [
    "print(accuracy_score(trn_y, model.predict(trn_X)))\n",
    "print(accuracy_score(test_y, model.predict(test_X)))"
   ]
  },
  {
   "cell_type": "code",
   "execution_count": 17,
   "metadata": {},
   "outputs": [
    {
     "data": {
      "text/plain": [
       "array([0, 0, 0])"
      ]
     },
     "execution_count": 17,
     "metadata": {},
     "output_type": "execute_result"
    }
   ],
   "source": [
    "X = [[400, 3.5, 5], [550, 3.8, 2], [700, 4.0, 2]]\n",
    "predict = model.predict(X)\n",
    "predict"
   ]
  },
  {
   "cell_type": "code",
   "execution_count": 18,
   "metadata": {},
   "outputs": [
    {
     "data": {
      "text/plain": [
       "LogisticRegression()"
      ]
     },
     "execution_count": 18,
     "metadata": {},
     "output_type": "execute_result"
    }
   ],
   "source": [
    "ucla_X = ucla_data[['gre', 'gpa']]\n",
    "ucla_y = ucla_data['admit']\n",
    "\n",
    "trn_X, test_X, trn_y, test_y = train_test_split(ucla_X, ucla_y, test_size=0.3, random_state=1234)\n",
    "\n",
    "model = LogisticRegression()\n",
    "model.fit(trn_X, trn_y)"
   ]
  },
  {
   "cell_type": "code",
   "execution_count": 19,
   "metadata": {},
   "outputs": [
    {
     "name": "stdout",
     "output_type": "stream",
     "text": [
      "0.625\n",
      "0.825\n"
     ]
    }
   ],
   "source": [
    "print(accuracy_score(trn_y, model.predict(trn_X)))\n",
    "print(accuracy_score(test_y, model.predict(test_X)))"
   ]
  },
  {
   "cell_type": "markdown",
   "metadata": {},
   "source": [
    "---"
   ]
  },
  {
   "cell_type": "markdown",
   "metadata": {},
   "source": [
    "## KNN, Classification"
   ]
  },
  {
   "cell_type": "code",
   "execution_count": 20,
   "metadata": {},
   "outputs": [],
   "source": [
    "import pandas as pd\n",
    "import numpy as np\n",
    "\n",
    "from sklearn.preprocessing import StandardScaler"
   ]
  },
  {
   "cell_type": "code",
   "execution_count": 21,
   "metadata": {},
   "outputs": [],
   "source": [
    "path = './dataset_0914'\n",
    "boston_hs = pd.read_csv(f\"{path}/BostonHousing.csv\")"
   ]
  },
  {
   "cell_type": "code",
   "execution_count": 22,
   "metadata": {
    "scrolled": true
   },
   "outputs": [
    {
     "data": {
      "text/html": [
       "<div>\n",
       "<style scoped>\n",
       "    .dataframe tbody tr th:only-of-type {\n",
       "        vertical-align: middle;\n",
       "    }\n",
       "\n",
       "    .dataframe tbody tr th {\n",
       "        vertical-align: top;\n",
       "    }\n",
       "\n",
       "    .dataframe thead th {\n",
       "        text-align: right;\n",
       "    }\n",
       "</style>\n",
       "<table border=\"1\" class=\"dataframe\">\n",
       "  <thead>\n",
       "    <tr style=\"text-align: right;\">\n",
       "      <th></th>\n",
       "      <th>indus</th>\n",
       "      <th>dis</th>\n",
       "      <th>medv</th>\n",
       "    </tr>\n",
       "  </thead>\n",
       "  <tbody>\n",
       "    <tr>\n",
       "      <th>0</th>\n",
       "      <td>2.31</td>\n",
       "      <td>4.0900</td>\n",
       "      <td>24.0</td>\n",
       "    </tr>\n",
       "    <tr>\n",
       "      <th>1</th>\n",
       "      <td>7.07</td>\n",
       "      <td>4.9671</td>\n",
       "      <td>21.6</td>\n",
       "    </tr>\n",
       "    <tr>\n",
       "      <th>2</th>\n",
       "      <td>7.07</td>\n",
       "      <td>4.9671</td>\n",
       "      <td>34.7</td>\n",
       "    </tr>\n",
       "    <tr>\n",
       "      <th>3</th>\n",
       "      <td>2.18</td>\n",
       "      <td>6.0622</td>\n",
       "      <td>33.4</td>\n",
       "    </tr>\n",
       "    <tr>\n",
       "      <th>4</th>\n",
       "      <td>2.18</td>\n",
       "      <td>6.0622</td>\n",
       "      <td>36.2</td>\n",
       "    </tr>\n",
       "    <tr>\n",
       "      <th>...</th>\n",
       "      <td>...</td>\n",
       "      <td>...</td>\n",
       "      <td>...</td>\n",
       "    </tr>\n",
       "    <tr>\n",
       "      <th>501</th>\n",
       "      <td>11.93</td>\n",
       "      <td>2.4786</td>\n",
       "      <td>22.4</td>\n",
       "    </tr>\n",
       "    <tr>\n",
       "      <th>502</th>\n",
       "      <td>11.93</td>\n",
       "      <td>2.2875</td>\n",
       "      <td>20.6</td>\n",
       "    </tr>\n",
       "    <tr>\n",
       "      <th>503</th>\n",
       "      <td>11.93</td>\n",
       "      <td>2.1675</td>\n",
       "      <td>23.9</td>\n",
       "    </tr>\n",
       "    <tr>\n",
       "      <th>504</th>\n",
       "      <td>11.93</td>\n",
       "      <td>2.3889</td>\n",
       "      <td>22.0</td>\n",
       "    </tr>\n",
       "    <tr>\n",
       "      <th>505</th>\n",
       "      <td>11.93</td>\n",
       "      <td>2.5050</td>\n",
       "      <td>11.9</td>\n",
       "    </tr>\n",
       "  </tbody>\n",
       "</table>\n",
       "<p>506 rows × 3 columns</p>\n",
       "</div>"
      ],
      "text/plain": [
       "     indus     dis  medv\n",
       "0     2.31  4.0900  24.0\n",
       "1     7.07  4.9671  21.6\n",
       "2     7.07  4.9671  34.7\n",
       "3     2.18  6.0622  33.4\n",
       "4     2.18  6.0622  36.2\n",
       "..     ...     ...   ...\n",
       "501  11.93  2.4786  22.4\n",
       "502  11.93  2.2875  20.6\n",
       "503  11.93  2.1675  23.9\n",
       "504  11.93  2.3889  22.0\n",
       "505  11.93  2.5050  11.9\n",
       "\n",
       "[506 rows x 3 columns]"
      ]
     },
     "execution_count": 22,
     "metadata": {},
     "output_type": "execute_result"
    }
   ],
   "source": [
    "bs_data = boston_hs[['indus', 'dis', 'medv']]\n",
    "bs_data"
   ]
  },
  {
   "cell_type": "code",
   "execution_count": 23,
   "metadata": {},
   "outputs": [
    {
     "data": {
      "text/plain": [
       "array([[-1.2879095 ,  0.1402136 ,  0.15968566],\n",
       "       [-0.59338101,  0.55715988, -0.10152429],\n",
       "       [-0.59338101,  0.55715988,  1.32424667],\n",
       "       [-1.30687771,  1.07773662,  1.18275795],\n",
       "       [-1.30687771,  1.07773662,  1.48750288]])"
      ]
     },
     "execution_count": 23,
     "metadata": {},
     "output_type": "execute_result"
    }
   ],
   "source": [
    "scaler = StandardScaler()\n",
    "scaler.fit(bs_data)\n",
    "BH = scaler.transform(bs_data)\n",
    "BH[:5]"
   ]
  },
  {
   "cell_type": "code",
   "execution_count": 24,
   "metadata": {},
   "outputs": [
    {
     "data": {
      "text/plain": [
       "array([[-1.2879095 ,  0.1402136 ,  0.15968566,  2.        ],\n",
       "       [-0.59338101,  0.55715988, -0.10152429,  2.        ],\n",
       "       [-0.59338101,  0.55715988,  1.32424667,  1.        ],\n",
       "       ...,\n",
       "       [-0.21109853, -0.42894587, -0.46068796,  2.        ],\n",
       "       [-0.21109853, -0.65883438, -0.14505928,  2.        ],\n",
       "       [-0.21109853, -0.66320778, -0.54775795,  2.        ]])"
      ]
     },
     "execution_count": 24,
     "metadata": {},
     "output_type": "execute_result"
    }
   ],
   "source": [
    "from sklearn.cluster import KMeans\n",
    "\n",
    "BH_data = BH[:500]\n",
    "BH_kmeans = KMeans(n_clusters=5, random_state=123).fit(BH_data)\n",
    "BH_data = np.hstack((BH_data, BH_kmeans.labels_.reshape(-1, 1)))\n",
    "BH_data"
   ]
  },
  {
   "cell_type": "code",
   "execution_count": 25,
   "metadata": {},
   "outputs": [
    {
     "data": {
      "text/plain": [
       "array([[ 1.17486908, -0.83795852, -0.7256677 ],\n",
       "       [-1.04746396,  0.03299445,  1.61437165],\n",
       "       [-0.40576204,  0.08002824, -0.12606471],\n",
       "       [ 1.12397199, -1.0298077 ,  2.89477147],\n",
       "       [-1.01177187,  1.71875715,  0.16656619]])"
      ]
     },
     "execution_count": 25,
     "metadata": {},
     "output_type": "execute_result"
    }
   ],
   "source": [
    "# Center of cluseters\n",
    "BH_kmeans.cluster_centers_"
   ]
  },
  {
   "cell_type": "code",
   "execution_count": 26,
   "metadata": {},
   "outputs": [
    {
     "data": {
      "text/plain": [
       "array([[ 0.11573841, -0.62579623, -0.01445431,  2.        ],\n",
       "       [ 0.11573841, -0.71663927, -0.21036176,  2.        ],\n",
       "       [ 0.11573841, -0.77368357,  0.14880191,  2.        ],\n",
       "       [ 0.11573841, -0.66843684, -0.0579893 ,  2.        ],\n",
       "       [ 0.11573841, -0.61324648, -1.15724782,  0.        ]])"
      ]
     },
     "execution_count": 26,
     "metadata": {},
     "output_type": "execute_result"
    }
   ],
   "source": [
    "BH_test = BH[-5:]\n",
    "pr = BH_kmeans.predict(BH_test)\n",
    "BH_test = np.hstack((BH_test, pr.reshape(-1, 1)))\n",
    "BH_test"
   ]
  },
  {
   "cell_type": "code",
   "execution_count": 27,
   "metadata": {},
   "outputs": [
    {
     "data": {
      "text/html": [
       "<div>\n",
       "<style scoped>\n",
       "    .dataframe tbody tr th:only-of-type {\n",
       "        vertical-align: middle;\n",
       "    }\n",
       "\n",
       "    .dataframe tbody tr th {\n",
       "        vertical-align: top;\n",
       "    }\n",
       "\n",
       "    .dataframe thead th {\n",
       "        text-align: right;\n",
       "    }\n",
       "</style>\n",
       "<table border=\"1\" class=\"dataframe\">\n",
       "  <thead>\n",
       "    <tr style=\"text-align: right;\">\n",
       "      <th></th>\n",
       "      <th>indus</th>\n",
       "      <th>dis</th>\n",
       "      <th>medv</th>\n",
       "    </tr>\n",
       "    <tr>\n",
       "      <th>label</th>\n",
       "      <th></th>\n",
       "      <th></th>\n",
       "      <th></th>\n",
       "    </tr>\n",
       "  </thead>\n",
       "  <tbody>\n",
       "    <tr>\n",
       "      <th>0</th>\n",
       "      <td>19.188827</td>\n",
       "      <td>2.032289</td>\n",
       "      <td>15.865363</td>\n",
       "    </tr>\n",
       "    <tr>\n",
       "      <th>1</th>\n",
       "      <td>3.957910</td>\n",
       "      <td>3.864451</td>\n",
       "      <td>37.365672</td>\n",
       "    </tr>\n",
       "    <tr>\n",
       "      <th>2</th>\n",
       "      <td>8.355860</td>\n",
       "      <td>3.963392</td>\n",
       "      <td>21.374522</td>\n",
       "    </tr>\n",
       "    <tr>\n",
       "      <th>3</th>\n",
       "      <td>18.840000</td>\n",
       "      <td>1.628710</td>\n",
       "      <td>49.130000</td>\n",
       "    </tr>\n",
       "    <tr>\n",
       "      <th>4</th>\n",
       "      <td>4.202529</td>\n",
       "      <td>7.410669</td>\n",
       "      <td>24.063218</td>\n",
       "    </tr>\n",
       "  </tbody>\n",
       "</table>\n",
       "</div>"
      ],
      "text/plain": [
       "           indus       dis       medv\n",
       "label                                \n",
       "0      19.188827  2.032289  15.865363\n",
       "1       3.957910  3.864451  37.365672\n",
       "2       8.355860  3.963392  21.374522\n",
       "3      18.840000  1.628710  49.130000\n",
       "4       4.202529  7.410669  24.063218"
      ]
     },
     "execution_count": 27,
     "metadata": {},
     "output_type": "execute_result"
    }
   ],
   "source": [
    "BH_before_scale = bs_data[:500]\n",
    "BH_before_scale_label = pd.DataFrame({\"label\": BH_kmeans.labels_})\n",
    "BH_before_scale = pd.concat([BH_before_scale, BH_before_scale_label], axis=1)\n",
    "BH_before_scale\n",
    "BH_before_scale.groupby('label').mean()"
   ]
  },
  {
   "cell_type": "markdown",
   "metadata": {},
   "source": [
    "## PimaIndianDiabetes"
   ]
  },
  {
   "cell_type": "code",
   "execution_count": 28,
   "metadata": {},
   "outputs": [],
   "source": [
    "import pandas as pd\n",
    "\n",
    "from sklearn.neighbors import KNeighborsClassifier \n",
    "from sklearn.model_selection import train_test_split\n",
    "from sklearn.metrics import accuracy_score, precision_score, recall_score, f1_score\n",
    "from sklearn.preprocessing import StandardScaler"
   ]
  },
  {
   "cell_type": "code",
   "execution_count": 30,
   "metadata": {},
   "outputs": [
    {
     "name": "stdout",
     "output_type": "stream",
     "text": [
      "Train Accuracy : 0.811918\n",
      "Test Accuracy : 0.727273\n",
      "F1 score: 0.701397\n",
      "Precision score: 0.711538\n",
      "Recall score: 0.696678\n"
     ]
    }
   ],
   "source": [
    "pid_data = pd.read_csv(f\"{path}/PimaIndiansDiabetes.csv\")\n",
    "pid_data\n",
    "\n",
    "pid_y = pid_data['diabetes']\n",
    "pid_X = pid_data.drop(['diabetes'], axis=1)\n",
    "\n",
    "\n",
    "scaler = StandardScaler()\n",
    "scaler.fit(pid_X)\n",
    "pid_X_scaled = scaler.transform(pid_X)\n",
    "train_X, test_X, train_y, test_y = \\\n",
    "    train_test_split(pid_X, pid_y, test_size=0.3,\\\n",
    "                     random_state=123) \n",
    "\n",
    "model =  KNeighborsClassifier(n_neighbors=5)\n",
    "\n",
    "model.fit(train_X, train_y)\n",
    "\n",
    "tr_y = model.predict(train_X)\n",
    "\n",
    "tr_acc = accuracy_score(train_y, tr_y)\n",
    "\n",
    "print('Train Accuracy : {0:3f}'.format(tr_acc))\n",
    "\n",
    "pred_y = model.predict(test_X)\n",
    "\n",
    "acc = accuracy_score(test_y, pred_y)\n",
    "print('Test Accuracy : {0:3f}'.format(acc))\n",
    "\n",
    "\n",
    "f_acc = f1_score(test_y, pred_y, average='macro')\n",
    "print('F1 score: {0:3f}'.format(f_acc))\n",
    "\n",
    "pr_acc = precision_score(test_y, pred_y, average='macro')\n",
    "print('Precision score: {0:3f}'.format(pr_acc))\n",
    "\n",
    "recall_acc = recall_score(test_y, pred_y, average='macro')\n",
    "print('Recall score: {0:3f}'.format(recall_acc))"
   ]
  },
  {
   "cell_type": "code",
   "execution_count": 33,
   "metadata": {},
   "outputs": [
    {
     "name": "stdout",
     "output_type": "stream",
     "text": [
      "[0.696969696969697, 0.70995670995671, 0.70995670995671, 0.70995670995671, 0.7272727272727273, 0.70995670995671, 0.7489177489177489, 0.7272727272727273, 0.7748917748917749, 0.7532467532467533]\n",
      "0.7748917748917749\n"
     ]
    }
   ],
   "source": [
    "acc_list = []\n",
    "\n",
    "for i in range(1, 11):\n",
    "    model = KNeighborsClassifier(n_neighbors=i)\n",
    "    model.fit(train_X, train_y)\n",
    "    pred_y = model.predict(test_X)\n",
    "    acc = accuracy_score(test_y, pred_y)\n",
    "    acc_list.append(acc)\n",
    "print(acc_list)\n",
    "print(max(acc_list))"
   ]
  },
  {
   "cell_type": "code",
   "execution_count": 34,
   "metadata": {},
   "outputs": [],
   "source": [
    "import pandas as pd\n",
    "from sklearn.neighbors import KNeighborsClassifier\n",
    "from sklearn.model_selection import KFold\n",
    "from sklearn.model_selection import train_test_split\n",
    "from sklearn.metrics import accuracy_score\n",
    "import numpy as np"
   ]
  },
  {
   "cell_type": "code",
   "execution_count": 39,
   "metadata": {},
   "outputs": [],
   "source": [
    "pid_data = pd.read_csv(f\"{path}/PimaIndiansDiabetes.csv\")\n",
    "pid_y = pid_data['diabetes']\n",
    "pid_X = pid_data.drop(['diabetes'], axis=1)"
   ]
  },
  {
   "cell_type": "code",
   "execution_count": 49,
   "metadata": {
    "scrolled": true
   },
   "outputs": [
    {
     "name": "stdout",
     "output_type": "stream",
     "text": [
      "fold: 0\n",
      "Accuracy : 0.792208\n",
      "fold: 1\n",
      "Accuracy : 0.701299\n",
      "fold: 2\n",
      "Accuracy : 0.714286\n",
      "fold: 3\n",
      "Accuracy : 0.610390\n",
      "fold: 4\n",
      "Accuracy : 0.727273\n",
      "fold: 5\n",
      "Accuracy : 0.727273\n",
      "fold: 6\n",
      "Accuracy : 0.714286\n",
      "fold: 7\n",
      "Accuracy : 0.740260\n",
      "fold: 8\n",
      "Accuracy : 0.644737\n",
      "fold: 9\n",
      "Accuracy : 0.763158\n",
      "10 fold : [0.7922077922077922, 0.7012987012987013, 0.7142857142857143, 0.6103896103896104, 0.7272727272727273, 0.7272727272727273, 0.7142857142857143, 0.7402597402597403, 0.6447368421052632, 0.7631578947368421]\n",
      "mean accuracy : 0.7135167464114833\n"
     ]
    }
   ],
   "source": [
    "kf = KFold(n_splits=10, random_state=123, shuffle=True)\n",
    "model = KNeighborsClassifier(n_neighbors=5)\n",
    "acc = []\n",
    "fold = 0\n",
    "\n",
    "for train_index, test_index in kf.split(pid_X):\n",
    "    # Split 10 times from KFold\n",
    "    print(\"fold:\", fold)\n",
    "    \n",
    "    train_X, test_X = pid_X.iloc[train_index], pid_X.iloc[test_index]\n",
    "    train_y, test_y = pid_y.iloc[train_index], pid_y.iloc[test_index]\n",
    "\n",
    "    # Train the model using the training sets\n",
    "    model.fit(train_X, train_y)\n",
    "\n",
    "    # Make predictions using the testing set\n",
    "    pred_y = model.predict(test_X)\n",
    "    #print(pred_y)\n",
    "\n",
    "    # model evaluation: accuracy #############\n",
    "    accuracy = accuracy_score(test_y, pred_y)\n",
    "    print('Accuracy : {0:3f}'.format(accuracy))\n",
    "    acc.append(accuracy)\n",
    "    fold += 1\n",
    "\n",
    "print(\"10 fold :\", acc)\n",
    "print(\"mean accuracy :\", np.mean(acc))\n"
   ]
  },
  {
   "cell_type": "code",
   "execution_count": 51,
   "metadata": {},
   "outputs": [
    {
     "name": "stdout",
     "output_type": "stream",
     "text": [
      "fold: 0\n",
      "Accuracy : 0.792208\n",
      "fold: 1\n",
      "Accuracy : 0.701299\n",
      "fold: 2\n",
      "Accuracy : 0.714286\n",
      "fold: 3\n",
      "Accuracy : 0.610390\n",
      "fold: 4\n",
      "Accuracy : 0.727273\n",
      "fold: 5\n",
      "Accuracy : 0.727273\n",
      "fold: 6\n",
      "Accuracy : 0.714286\n",
      "fold: 7\n",
      "Accuracy : 0.740260\n",
      "fold: 8\n",
      "Accuracy : 0.644737\n",
      "fold: 9\n",
      "Accuracy : 0.763158\n",
      "highest test accuracy: 0.7922077922077922\n",
      "fold: 0\n"
     ]
    }
   ],
   "source": [
    "kf = KFold(n_splits=10, random_state=123, shuffle=True)\n",
    "model = KNeighborsClassifier(n_neighbors=5)\n",
    "acc = []\n",
    "fold = 0\n",
    "\n",
    "for train_index, test_index in kf.split(pid_X):\n",
    "    # Split 10 times from KFold\n",
    "    print(\"fold:\", fold)\n",
    "    \n",
    "    train_X, test_X = pid_X.iloc[train_index], pid_X.iloc[test_index]\n",
    "    train_y, test_y = pid_y.iloc[train_index], pid_y.iloc[test_index]\n",
    "\n",
    "    # Train the model using the training sets\n",
    "    model.fit(train_X, train_y)\n",
    "\n",
    "    # Make predictions using the testing set\n",
    "    pred_y = model.predict(test_X)\n",
    "    #print(pred_y)\n",
    "\n",
    "    # model evaluation: accuracy #############\n",
    "    accuracy = accuracy_score(test_y, pred_y)\n",
    "    print('Accuracy : {0:3f}'.format(accuracy))\n",
    "    acc.append(accuracy)\n",
    "    fold += 1\n",
    "\n",
    "print(f\"highest test accuracy: {max(acc)}\")\n",
    "print(f\"fold: {acc.index(max(acc))}\")"
   ]
  },
  {
   "cell_type": "code",
   "execution_count": null,
   "metadata": {},
   "outputs": [],
   "source": []
  },
  {
   "cell_type": "code",
   "execution_count": null,
   "metadata": {},
   "outputs": [],
   "source": []
  },
  {
   "cell_type": "code",
   "execution_count": null,
   "metadata": {},
   "outputs": [],
   "source": []
  }
 ],
 "metadata": {
  "kernelspec": {
   "display_name": "Python 3",
   "language": "python",
   "name": "python3"
  },
  "language_info": {
   "codemirror_mode": {
    "name": "ipython",
    "version": 3
   },
   "file_extension": ".py",
   "mimetype": "text/x-python",
   "name": "python",
   "nbconvert_exporter": "python",
   "pygments_lexer": "ipython3",
   "version": "3.8.2"
  }
 },
 "nbformat": 4,
 "nbformat_minor": 4
}
