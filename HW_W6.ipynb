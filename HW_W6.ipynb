{
 "cells": [
  {
   "cell_type": "code",
   "execution_count": 56,
   "metadata": {},
   "outputs": [],
   "source": [
    "from tqdm import tqdm\n",
    "\n",
    "import pandas as pd\n",
    "import numpy as np\n",
    "\n",
    "from sklearn import svm\n",
    "from sklearn.tree import DecisionTreeClassifier, export_graphviz\n",
    "from sklearn.ensemble import RandomForestClassifier\n",
    "from sklearn.model_selection import train_test_split, KFold\n",
    "from sklearn.metrics import confusion_matrix, accuracy_score"
   ]
  },
  {
   "cell_type": "code",
   "execution_count": 43,
   "metadata": {},
   "outputs": [
    {
     "name": "stdout",
     "output_type": "stream",
     "text": [
      "\u001b[31mBostonHousing.csv\u001b[m\u001b[m             \u001b[31miris.csv\u001b[m\u001b[m\r\n",
      "\u001b[31mBostonHousing_description.txt\u001b[m\u001b[m \u001b[31mliver.csv\u001b[m\u001b[m\r\n",
      "\u001b[31mPimaIndiansDiabetes.csv\u001b[m\u001b[m       \u001b[31mprestige.csv\u001b[m\u001b[m\r\n",
      "\u001b[31mcars.csv\u001b[m\u001b[m                      \u001b[31mucla_admit.csv\u001b[m\u001b[m\r\n",
      "\u001b[31mcredit.csv\u001b[m\u001b[m\r\n"
     ]
    }
   ],
   "source": [
    "!ls ./dataset_0914/"
   ]
  },
  {
   "cell_type": "code",
   "execution_count": 44,
   "metadata": {},
   "outputs": [],
   "source": [
    "pmd_dataset = pd.read_csv('./dataset_0914/PimaIndiansDiabetes.csv')"
   ]
  },
  {
   "cell_type": "code",
   "execution_count": 45,
   "metadata": {},
   "outputs": [
    {
     "data": {
      "text/plain": [
       "count     768\n",
       "unique      2\n",
       "top       neg\n",
       "freq      500\n",
       "Name: diabetes, dtype: object"
      ]
     },
     "execution_count": 45,
     "metadata": {},
     "output_type": "execute_result"
    }
   ],
   "source": [
    "pmd_y = pmd_dataset['diabetes']\n",
    "pmd_X = pmd_dataset.drop(['diabetes'], axis=1)\n",
    "pmd_y.describe()"
   ]
  },
  {
   "cell_type": "code",
   "execution_count": 46,
   "metadata": {},
   "outputs": [],
   "source": [
    "train_X, test_X, train_y, test_y = train_test_split(pmd_X, pmd_y, test_size=.3, random_state=1234)"
   ]
  },
  {
   "cell_type": "code",
   "execution_count": 47,
   "metadata": {},
   "outputs": [],
   "source": [
    "pmd_dct = DecisionTreeClassifier(random_state=1234)\n",
    "pmd_rfc = RandomForestClassifier(n_estimators=10, random_state=1234)\n",
    "pmd_svm = svm.SVC(random_state=1234)"
   ]
  },
  {
   "cell_type": "code",
   "execution_count": 48,
   "metadata": {},
   "outputs": [],
   "source": [
    "# K-fold CV\n",
    "kf = KFold(n_splits=10, random_state=1234, shuffle=True)\n",
    "DCT_acc = []\n",
    "RFC_acc = []\n",
    "SVM_acc = []\n",
    "fold = 0"
   ]
  },
  {
   "cell_type": "code",
   "execution_count": 49,
   "metadata": {
    "scrolled": true
   },
   "outputs": [
    {
     "name": "stdout",
     "output_type": "stream",
     "text": [
      "fold: 0\n",
      "DCT acc: 0.701\n",
      "RFC acc: 0.753\n",
      "SVM acc: 0.740\n",
      "fold: 1\n",
      "DCT acc: 0.623\n",
      "RFC acc: 0.727\n",
      "SVM acc: 0.740\n",
      "fold: 2\n",
      "DCT acc: 0.727\n",
      "RFC acc: 0.714\n",
      "SVM acc: 0.701\n",
      "fold: 3\n",
      "DCT acc: 0.714\n",
      "RFC acc: 0.753\n",
      "SVM acc: 0.844\n",
      "fold: 4\n",
      "DCT acc: 0.636\n",
      "RFC acc: 0.610\n",
      "SVM acc: 0.779\n",
      "fold: 5\n",
      "DCT acc: 0.662\n",
      "RFC acc: 0.727\n",
      "SVM acc: 0.714\n",
      "fold: 6\n",
      "DCT acc: 0.714\n",
      "RFC acc: 0.753\n",
      "SVM acc: 0.727\n",
      "fold: 7\n",
      "DCT acc: 0.792\n",
      "RFC acc: 0.766\n",
      "SVM acc: 0.792\n",
      "fold: 8\n",
      "DCT acc: 0.697\n",
      "RFC acc: 0.750\n",
      "SVM acc: 0.803\n",
      "fold: 9\n",
      "DCT acc: 0.737\n",
      "RFC acc: 0.684\n",
      "SVM acc: 0.763\n",
      "DCT mean acc: 0.700563909774436\n",
      "RFC mean acc: 0.7239405331510594\n",
      "SVM mean acc: 0.760475051264525\n"
     ]
    }
   ],
   "source": [
    "for train_index, test_index in kf.split(pmd_X):\n",
    "    print(f\"fold: {fold}\")\n",
    "    \n",
    "    # split train/test set\n",
    "    train_X, test_X = pmd_X.iloc[train_index], pmd_X.iloc[test_index]\n",
    "    train_y, test_y = pmd_y.iloc[train_index], pmd_y.iloc[test_index]\n",
    "    \n",
    "    # fit model\n",
    "    pmd_dct.fit(train_X, train_y)\n",
    "    pmd_rfc.fit(train_X, train_y)\n",
    "    pmd_svm.fit(train_X, train_y)\n",
    "    \n",
    "    dct_pred = pmd_dct.predict(test_X)\n",
    "    rfc_pred = pmd_rfc.predict(test_X)\n",
    "    svm_pred = pmd_svm.predict(test_X)\n",
    "    \n",
    "    dct_acc = accuracy_score(test_y, dct_pred)\n",
    "    rfc_acc = accuracy_score(test_y, rfc_pred)\n",
    "    svm_acc = accuracy_score(test_y, svm_pred)\n",
    "    \n",
    "    print(f\"DCT acc: {dct_acc:.3f}\")\n",
    "    DCT_acc.append(dct_acc)\n",
    "    print(f\"RFC acc: {rfc_acc:.3f}\")\n",
    "    RFC_acc.append(rfc_acc)\n",
    "    print(f\"SVM acc: {svm_acc:.3f}\")\n",
    "    SVM_acc.append(svm_acc)\n",
    "    \n",
    "    fold += 1\n",
    "\n",
    "print(f\"DCT mean acc: {np.mean(DCT_acc)}\")\n",
    "print(f\"RFC mean acc: {np.mean(RFC_acc)}\")\n",
    "print(f\"SVM mean acc: {np.mean(SVM_acc)}\")"
   ]
  },
  {
   "cell_type": "code",
   "execution_count": 59,
   "metadata": {},
   "outputs": [
    {
     "name": "stderr",
     "output_type": "stream",
     "text": [
      "\r",
      "k-fold:   0%|          | 0/10 [00:00<?, ?it/s]"
     ]
    },
    {
     "name": "stdout",
     "output_type": "stream",
     "text": [
      "model: SVC_linear\n"
     ]
    },
    {
     "name": "stderr",
     "output_type": "stream",
     "text": [
      "k-fold: 100%|██████████| 10/10 [00:33<00:00,  3.33s/it]\n",
      "k-fold:  50%|█████     | 5/10 [00:00<00:00, 40.89it/s]"
     ]
    },
    {
     "name": "stdout",
     "output_type": "stream",
     "text": [
      "model: SVC_poly\n"
     ]
    },
    {
     "name": "stderr",
     "output_type": "stream",
     "text": [
      "k-fold: 100%|██████████| 10/10 [00:00<00:00, 43.32it/s]\n",
      "k-fold: 100%|██████████| 10/10 [00:00<00:00, 74.31it/s]\n",
      "k-fold:   0%|          | 0/10 [00:00<?, ?it/s]"
     ]
    },
    {
     "name": "stdout",
     "output_type": "stream",
     "text": [
      "model: SVC_rbf\n",
      "model: SVC_sigmoid\n"
     ]
    },
    {
     "name": "stderr",
     "output_type": "stream",
     "text": [
      "k-fold: 100%|██████████| 10/10 [00:00<00:00, 67.64it/s]\n",
      "k-fold:   0%|          | 0/10 [00:00<?, ?it/s]"
     ]
    },
    {
     "name": "stdout",
     "output_type": "stream",
     "text": [
      "model: SVC_precomputed\n"
     ]
    },
    {
     "name": "stderr",
     "output_type": "stream",
     "text": [
      "k-fold: 100%|██████████| 10/10 [00:33<00:00,  3.36s/it]"
     ]
    },
    {
     "name": "stdout",
     "output_type": "stream",
     "text": [
      "[[0.7922077922077922, 0.7272727272727273, 0.7532467532467533, 0.8571428571428571, 0.7662337662337663, 0.7272727272727273, 0.7272727272727273, 0.7662337662337663, 0.8157894736842105, 0.8157894736842105], [0.7402597402597403, 0.7402597402597403, 0.6753246753246753, 0.8571428571428571, 0.7272727272727273, 0.7402597402597403, 0.7402597402597403, 0.7922077922077922, 0.8157894736842105, 0.8026315789473685], [0.7402597402597403, 0.7402597402597403, 0.7012987012987013, 0.8441558441558441, 0.7792207792207793, 0.7142857142857143, 0.7272727272727273, 0.7922077922077922, 0.8026315789473685, 0.7631578947368421], [0.5064935064935064, 0.4675324675324675, 0.5454545454545454, 0.5324675324675324, 0.5844155844155844, 0.5064935064935064, 0.4805194805194805, 0.4155844155844156, 0.5131578947368421, 0.40789473684210525], [0.7922077922077922, 0.7272727272727273, 0.7532467532467533, 0.8571428571428571, 0.7662337662337663, 0.7272727272727273, 0.7272727272727273, 0.7662337662337663, 0.8157894736842105, 0.8157894736842105]]\n"
     ]
    },
    {
     "name": "stderr",
     "output_type": "stream",
     "text": [
      "\n"
     ]
    }
   ],
   "source": [
    "# 2번 문제\n",
    "\n",
    "linear_svm = svm.SVC(kernel='linear')\n",
    "poly_svm = svm.SVC(kernel='poly')\n",
    "rbf_svm = svm.SVC(kernel='rbf')\n",
    "sigmoid_svm = svm.SVC(kernel='sigmoid')\n",
    "precom_svm = svm.SVC(kernel='precomputed')\n",
    "\n",
    "svm_models = [linear_svm, poly_svm, rbf_svm, sigmoid_svm, precom_svm]\n",
    "svm_acc = [[], [], [], [], []]\n",
    "\n",
    "kf = KFold(n_splits=10, random_state=1234, shuffle=True)\n",
    "\n",
    "for model in svm_models:\n",
    "    print(f\"model: SVC_{model.kernel}\")\n",
    "    \n",
    "    for train_index, test_index in tqdm(kf.split(pmd_X), total=kf.get_n_splits(), desc=\"k-fold\"):\n",
    "\n",
    "        # KFold data split\n",
    "        if model.kernel == \"precomputed\":\n",
    "            train_pre_X, test_pre_X = pmd_X.iloc[train_index], pmd_X.iloc[test_index]\n",
    "            train_X = np.dot(train_pre_X, train_pre_X.T)\n",
    "            test_X = np.dot(test_pre_X, train_pre_X.T)\n",
    "            train_y, test_y = pmd_y.iloc[train_index], pmd_y.iloc[test_index]\n",
    "        else:\n",
    "            train_X, test_X = pmd_X.iloc[train_index], pmd_X.iloc[test_index]\n",
    "            train_y, test_y = pmd_y.iloc[train_index], pmd_y.iloc[test_index]\n",
    "\n",
    "        # fit model and predict\n",
    "        model.fit(train_X, train_y)\n",
    "        pred_y = model.predict(test_X)\n",
    "        \n",
    "        acc = accuracy_score(test_y, pred_y)\n",
    "        svm_acc[svm_models.index(model)].append(acc)\n",
    "        \n",
    "print(svm_acc)"
   ]
  },
  {
   "cell_type": "code",
   "execution_count": 66,
   "metadata": {},
   "outputs": [
    {
     "name": "stdout",
     "output_type": "stream",
     "text": [
      "Model: SVC(kernel='linear')\n",
      "Highest mean: 0.7748462064251538\n",
      "[0.7748462064251538, 0.7631408065618592, 0.760475051264525, 0.4960013670539986, 0.7748462064251538]\n"
     ]
    }
   ],
   "source": [
    "means = []\n",
    "for i in svm_acc:\n",
    "    means.append(np.mean(i, axis=0))\n",
    "highest_model = means.index(max(means))\n",
    "print(f\"Model: {svm_models[highest_model]}\\nHighest mean: {max(means)}\")\n",
    "print(means)"
   ]
  },
  {
   "cell_type": "code",
   "execution_count": 71,
   "metadata": {},
   "outputs": [
    {
     "name": "stderr",
     "output_type": "stream",
     "text": [
      "k-fold: 100%|██████████| 10/10 [00:01<00:00,  5.50it/s]\n",
      "k-fold:  10%|█         | 1/10 [00:00<00:01,  5.19it/s]"
     ]
    },
    {
     "name": "stdout",
     "output_type": "stream",
     "text": [
      "est: 100 feat: 1 \n",
      "mean acc: 0.7656698564593302\n"
     ]
    },
    {
     "name": "stderr",
     "output_type": "stream",
     "text": [
      "k-fold: 100%|██████████| 10/10 [00:01<00:00,  5.25it/s]\n",
      "k-fold:   0%|          | 0/10 [00:00<?, ?it/s]"
     ]
    },
    {
     "name": "stdout",
     "output_type": "stream",
     "text": [
      "est: 100 feat: 2 \n",
      "mean acc: 0.7643198906356802\n"
     ]
    },
    {
     "name": "stderr",
     "output_type": "stream",
     "text": [
      "k-fold: 100%|██████████| 10/10 [00:02<00:00,  4.86it/s]\n",
      "k-fold:   0%|          | 0/10 [00:00<?, ?it/s]"
     ]
    },
    {
     "name": "stdout",
     "output_type": "stream",
     "text": [
      "est: 100 feat: 3 \n",
      "mean acc: 0.7694976076555023\n"
     ]
    },
    {
     "name": "stderr",
     "output_type": "stream",
     "text": [
      "k-fold: 100%|██████████| 10/10 [00:02<00:00,  4.52it/s]\n",
      "k-fold:   0%|          | 0/10 [00:00<?, ?it/s]"
     ]
    },
    {
     "name": "stdout",
     "output_type": "stream",
     "text": [
      "est: 100 feat: 4 \n",
      "mean acc: 0.7734449760765549\n"
     ]
    },
    {
     "name": "stderr",
     "output_type": "stream",
     "text": [
      "k-fold: 100%|██████████| 10/10 [00:02<00:00,  4.29it/s]\n",
      "k-fold:   0%|          | 0/10 [00:00<?, ?it/s]"
     ]
    },
    {
     "name": "stdout",
     "output_type": "stream",
     "text": [
      "est: 100 feat: 5 \n",
      "mean acc: 0.7695146958304853\n"
     ]
    },
    {
     "name": "stderr",
     "output_type": "stream",
     "text": [
      "k-fold: 100%|██████████| 10/10 [00:03<00:00,  2.97it/s]\n",
      "k-fold:   0%|          | 0/10 [00:00<?, ?it/s]"
     ]
    },
    {
     "name": "stdout",
     "output_type": "stream",
     "text": [
      "est: 200 feat: 1 \n",
      "mean acc: 0.7643540669856459\n"
     ]
    },
    {
     "name": "stderr",
     "output_type": "stream",
     "text": [
      "k-fold: 100%|██████████| 10/10 [00:03<00:00,  2.71it/s]\n",
      "k-fold:   0%|          | 0/10 [00:00<?, ?it/s]"
     ]
    },
    {
     "name": "stdout",
     "output_type": "stream",
     "text": [
      "est: 200 feat: 2 \n",
      "mean acc: 0.7708304853041694\n"
     ]
    },
    {
     "name": "stderr",
     "output_type": "stream",
     "text": [
      "k-fold: 100%|██████████| 10/10 [00:04<00:00,  2.49it/s]\n",
      "k-fold:   0%|          | 0/10 [00:00<?, ?it/s]"
     ]
    },
    {
     "name": "stdout",
     "output_type": "stream",
     "text": [
      "est: 200 feat: 3 \n",
      "mean acc: 0.7682672590567327\n"
     ]
    },
    {
     "name": "stderr",
     "output_type": "stream",
     "text": [
      "k-fold: 100%|██████████| 10/10 [00:04<00:00,  2.35it/s]\n",
      "k-fold:   0%|          | 0/10 [00:00<?, ?it/s]"
     ]
    },
    {
     "name": "stdout",
     "output_type": "stream",
     "text": [
      "est: 200 feat: 4 \n",
      "mean acc: 0.7682159945317839\n"
     ]
    },
    {
     "name": "stderr",
     "output_type": "stream",
     "text": [
      "k-fold: 100%|██████████| 10/10 [00:04<00:00,  2.10it/s]\n",
      "k-fold:   0%|          | 0/10 [00:00<?, ?it/s]"
     ]
    },
    {
     "name": "stdout",
     "output_type": "stream",
     "text": [
      "est: 200 feat: 5 \n",
      "mean acc: 0.7786568694463432\n"
     ]
    },
    {
     "name": "stderr",
     "output_type": "stream",
     "text": [
      "k-fold: 100%|██████████| 10/10 [00:05<00:00,  1.93it/s]\n",
      "k-fold:   0%|          | 0/10 [00:00<?, ?it/s]"
     ]
    },
    {
     "name": "stdout",
     "output_type": "stream",
     "text": [
      "est: 300 feat: 1 \n",
      "mean acc: 0.7734791524265209\n"
     ]
    },
    {
     "name": "stderr",
     "output_type": "stream",
     "text": [
      "k-fold: 100%|██████████| 10/10 [00:05<00:00,  1.81it/s]\n",
      "k-fold:   0%|          | 0/10 [00:00<?, ?it/s]"
     ]
    },
    {
     "name": "stdout",
     "output_type": "stream",
     "text": [
      "est: 300 feat: 2 \n",
      "mean acc: 0.768215994531784\n"
     ]
    },
    {
     "name": "stderr",
     "output_type": "stream",
     "text": [
      "k-fold: 100%|██████████| 10/10 [00:06<00:00,  1.66it/s]\n",
      "k-fold:   0%|          | 0/10 [00:00<?, ?it/s]"
     ]
    },
    {
     "name": "stdout",
     "output_type": "stream",
     "text": [
      "est: 300 feat: 3 \n",
      "mean acc: 0.7669514695830486\n"
     ]
    },
    {
     "name": "stderr",
     "output_type": "stream",
     "text": [
      "k-fold: 100%|██████████| 10/10 [00:07<00:00,  1.39it/s]\n",
      "k-fold:   0%|          | 0/10 [00:00<?, ?it/s]"
     ]
    },
    {
     "name": "stdout",
     "output_type": "stream",
     "text": [
      "est: 300 feat: 4 \n",
      "mean acc: 0.7721291866028708\n"
     ]
    },
    {
     "name": "stderr",
     "output_type": "stream",
     "text": [
      "k-fold: 100%|██████████| 10/10 [00:07<00:00,  1.41it/s]\n",
      "k-fold:   0%|          | 0/10 [00:00<?, ?it/s]"
     ]
    },
    {
     "name": "stdout",
     "output_type": "stream",
     "text": [
      "est: 300 feat: 5 \n",
      "mean acc: 0.7681989063568011\n"
     ]
    },
    {
     "name": "stderr",
     "output_type": "stream",
     "text": [
      "k-fold: 100%|██████████| 10/10 [00:06<00:00,  1.44it/s]\n",
      "k-fold:   0%|          | 0/10 [00:00<?, ?it/s]"
     ]
    },
    {
     "name": "stdout",
     "output_type": "stream",
     "text": [
      "est: 400 feat: 1 \n",
      "mean acc: 0.7708475734791523\n"
     ]
    },
    {
     "name": "stderr",
     "output_type": "stream",
     "text": [
      "k-fold: 100%|██████████| 10/10 [00:07<00:00,  1.38it/s]\n",
      "k-fold:   0%|          | 0/10 [00:00<?, ?it/s]"
     ]
    },
    {
     "name": "stdout",
     "output_type": "stream",
     "text": [
      "est: 400 feat: 2 \n",
      "mean acc: 0.7630041011619959\n"
     ]
    },
    {
     "name": "stderr",
     "output_type": "stream",
     "text": [
      "k-fold: 100%|██████████| 10/10 [00:07<00:00,  1.27it/s]\n",
      "k-fold:   0%|          | 0/10 [00:00<?, ?it/s]"
     ]
    },
    {
     "name": "stdout",
     "output_type": "stream",
     "text": [
      "est: 400 feat: 3 \n",
      "mean acc: 0.7669514695830486\n"
     ]
    },
    {
     "name": "stderr",
     "output_type": "stream",
     "text": [
      "k-fold: 100%|██████████| 10/10 [00:08<00:00,  1.18it/s]\n",
      "k-fold:   0%|          | 0/10 [00:00<?, ?it/s]"
     ]
    },
    {
     "name": "stdout",
     "output_type": "stream",
     "text": [
      "est: 400 feat: 4 \n",
      "mean acc: 0.7682330827067668\n"
     ]
    },
    {
     "name": "stderr",
     "output_type": "stream",
     "text": [
      "k-fold: 100%|██████████| 10/10 [00:09<00:00,  1.10it/s]\n",
      "k-fold:   0%|          | 0/10 [00:00<?, ?it/s]"
     ]
    },
    {
     "name": "stdout",
     "output_type": "stream",
     "text": [
      "est: 400 feat: 5 \n",
      "mean acc: 0.7682159945317839\n"
     ]
    },
    {
     "name": "stderr",
     "output_type": "stream",
     "text": [
      "k-fold: 100%|██████████| 10/10 [00:08<00:00,  1.22it/s]\n",
      "k-fold:   0%|          | 0/10 [00:00<?, ?it/s]"
     ]
    },
    {
     "name": "stdout",
     "output_type": "stream",
     "text": [
      "est: 500 feat: 1 \n",
      "mean acc: 0.7682672590567327\n"
     ]
    },
    {
     "name": "stderr",
     "output_type": "stream",
     "text": [
      "k-fold: 100%|██████████| 10/10 [00:08<00:00,  1.11it/s]\n",
      "k-fold:   0%|          | 0/10 [00:00<?, ?it/s]"
     ]
    },
    {
     "name": "stdout",
     "output_type": "stream",
     "text": [
      "est: 500 feat: 2 \n",
      "mean acc: 0.7682159945317839\n"
     ]
    },
    {
     "name": "stderr",
     "output_type": "stream",
     "text": [
      "k-fold: 100%|██████████| 10/10 [00:09<00:00,  1.02it/s]\n",
      "k-fold:   0%|          | 0/10 [00:00<?, ?it/s]"
     ]
    },
    {
     "name": "stdout",
     "output_type": "stream",
     "text": [
      "est: 500 feat: 3 \n",
      "mean acc: 0.7669514695830485\n"
     ]
    },
    {
     "name": "stderr",
     "output_type": "stream",
     "text": [
      "k-fold: 100%|██████████| 10/10 [00:10<00:00,  1.05s/it]\n",
      "k-fold:   0%|          | 0/10 [00:00<?, ?it/s]"
     ]
    },
    {
     "name": "stdout",
     "output_type": "stream",
     "text": [
      "est: 500 feat: 4 \n",
      "mean acc: 0.7708304853041694\n"
     ]
    },
    {
     "name": "stderr",
     "output_type": "stream",
     "text": [
      "k-fold: 100%|██████████| 10/10 [00:11<00:00,  1.13s/it]"
     ]
    },
    {
     "name": "stdout",
     "output_type": "stream",
     "text": [
      "est: 500 feat: 5 \n",
      "mean acc: 0.7708304853041694\n",
      "Max Accuracy\n",
      "est: 200 feat: 5 \n",
      "mean acc: 0.7786568694463432\n"
     ]
    },
    {
     "name": "stderr",
     "output_type": "stream",
     "text": [
      "\n"
     ]
    }
   ],
   "source": [
    "# 3번 문제\n",
    "estimators = [100, 200, 300, 400, 500]\n",
    "features = [1, 2, 3, 4, 5]\n",
    "\n",
    "max_acc = 0\n",
    "max_est = None\n",
    "max_feat = None\n",
    "\n",
    "kf = KFold(n_splits=10, random_state=1234, shuffle=True)\n",
    "\n",
    "for i in range(5):\n",
    "    for j in range(5):\n",
    "        accs = []\n",
    "        # apply each params to model\n",
    "        rfc_model = RandomForestClassifier(\n",
    "            n_estimators=estimators[i], \n",
    "            max_features=features[j], \n",
    "            random_state=1234)\n",
    "\n",
    "        for train_index, test_index in tqdm(kf.split(pmd_X), total=kf.get_n_splits(), desc=\"k-fold\"):\n",
    "\n",
    "            # split train/test set\n",
    "            train_X, test_X = pmd_X.iloc[train_index], pmd_X.iloc[test_index]\n",
    "            train_y, test_y = pmd_y.iloc[train_index], pmd_y.iloc[test_index]\n",
    "\n",
    "            rfc_model.fit(train_X, train_y)\n",
    "\n",
    "            pred_y = rfc_model.predict(test_X)\n",
    "\n",
    "            acc = accuracy_score(test_y, pred_y)\n",
    "            accs.append(acc)\n",
    "        print(f\"est: {estimators[i]} feat: {features[j]} \\nmean acc: {np.mean(accs, axis=0)}\")\n",
    "        if max_acc < np.mean(accs, axis=0):\n",
    "            max_acc = np.mean(accs, axis=0)\n",
    "            max_est = estimators[i]\n",
    "            max_feat = features[j]\n",
    "\n",
    "        \n",
    "print(f\"Max Accuracy\\nest: {max_est} feat: {max_feat} \\nmean acc: {max_acc}\")"
   ]
  },
  {
   "cell_type": "code",
   "execution_count": null,
   "metadata": {},
   "outputs": [],
   "source": []
  }
 ],
 "metadata": {
  "kernelspec": {
   "display_name": "Python 3",
   "language": "python",
   "name": "python3"
  },
  "language_info": {
   "codemirror_mode": {
    "name": "ipython",
    "version": 3
   },
   "file_extension": ".py",
   "mimetype": "text/x-python",
   "name": "python",
   "nbconvert_exporter": "python",
   "pygments_lexer": "ipython3",
   "version": "3.8.2"
  }
 },
 "nbformat": 4,
 "nbformat_minor": 4
}
